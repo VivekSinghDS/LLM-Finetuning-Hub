{
  "nbformat": 4,
  "nbformat_minor": 0,
  "metadata": {
    "colab": {
      "provenance": [],
      "gpuType": "T4"
    },
    "kernelspec": {
      "name": "python3",
      "display_name": "Python 3"
    },
    "language_info": {
      "name": "python"
    },
    "accelerator": "GPU"
  },
  "cells": [
    {
      "cell_type": "markdown",
      "source": [
        "## Send request for vLLM"
      ],
      "metadata": {
        "id": "sMojZkdhUWrM"
      }
    },
    {
      "cell_type": "code",
      "source": [
        "# Initialize notebook_url variable with the copied url\n",
        "\n",
        "# Example: notebook_url = 'https://c363-34-125-127-225.ngrok.io'\n",
        "\n",
        "notebook_url = ''\n",
        "url = f'{url}/v1/completions'"
      ],
      "metadata": {
        "id": "dLay0awQD4x1"
      },
      "execution_count": null,
      "outputs": []
    },
    {
      "cell_type": "code",
      "source": [
        "import requests\n",
        "\n",
        "prompt_text = \"Classify the following sentence that is delimited with triple backticks. ### Sentence:I was wondering if anyone out there could enlighten me on this car I saw the other day. It was a 2-door sports car, looked to be from the late 60s/ early 70s. It was called a Bricklin. The doors were really small. In addition, the front bumper was separate from the rest of the body. This is all I know. If anyone can tellme a model name, engine specs, years of production, where this car is made, history, or whatever info you have on this funky looking car, please e-mail. ### Class:\"\n",
        "body = {\n",
        "    \"model\": \"mariiaponom/test_colab\",\n",
        "    \"prompt\": prompt_text,\n",
        "    \"max_tokens\": 7,\n",
        "    \"temperature\": 0\n",
        "}\n",
        "\n",
        "response = requests.post(url, json=body)"
      ],
      "metadata": {
        "id": "kG-Zf_aVD66z"
      },
      "execution_count": null,
      "outputs": []
    }
  ]
}